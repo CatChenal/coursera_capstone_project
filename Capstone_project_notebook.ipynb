{
    "nbformat_minor": 1, 
    "cells": [
        {
            "source": "# My capstone project", 
            "cell_type": "markdown", 
            "metadata": {
                "collapsed": true
            }
        }, 
        {
            "source": "## Assignment 1:\n1. Write some markdown to explain that this notebook will be mainly used for the capstone project.\n2. Import the pandas library as pd.\n3. Import the Numpy library as np.\n4. Print the following the statement: Hello Capstone Project Course!\n5. Add a hidden cell to your notebook.", 
            "cell_type": "markdown", 
            "metadata": {}
        }, 
        {
            "source": "### 1. This notebook will be mainly used for the capstone project.", 
            "cell_type": "markdown", 
            "metadata": {}
        }, 
        {
            "source": "### 2. Import the pandas library as pd", 
            "cell_type": "markdown", 
            "metadata": {}
        }, 
        {
            "execution_count": 2, 
            "cell_type": "code", 
            "metadata": {}, 
            "outputs": [], 
            "source": "import pandas as pd"
        }, 
        {
            "source": "### 3. Import the Numpy library as np", 
            "cell_type": "markdown", 
            "metadata": {}
        }, 
        {
            "execution_count": 3, 
            "cell_type": "code", 
            "metadata": {}, 
            "outputs": [], 
            "source": "import numpy as np"
        }, 
        {
            "source": "### 4. Print the following the statement: Hello Capstone Project Course!", 
            "cell_type": "markdown", 
            "metadata": {}
        }, 
        {
            "execution_count": 4, 
            "cell_type": "code", 
            "metadata": {}, 
            "outputs": [
                {
                    "output_type": "stream", 
                    "name": "stdout", 
                    "text": "Hello Capstone Project Course!\n"
                }
            ], 
            "source": "print(\"Hello Capstone Project Course!\")"
        }, 
        {
            "source": "### 5. Add a hidden cell to your notebook.", 
            "cell_type": "markdown", 
            "metadata": {}
        }, 
        {
            "source": "To create an hidden cell, start cell with:\n   > \\# @hidden_cell\n\nIf the hidden cell command is properly interpreted, you will not see the content of the next cell!", 
            "cell_type": "markdown", 
            "metadata": {}
        }, 
        {
            "execution_count": 9, 
            "cell_type": "code", 
            "metadata": {}, 
            "outputs": [], 
            "source": "# The code was removed by DSX for sharing."
        }, 
        {
            "execution_count": null, 
            "cell_type": "code", 
            "metadata": {}, 
            "outputs": [], 
            "source": ""
        }
    ], 
    "metadata": {
        "kernelspec": {
            "display_name": "Python 3.5", 
            "name": "python3", 
            "language": "python"
        }, 
        "language_info": {
            "mimetype": "text/x-python", 
            "nbconvert_exporter": "python", 
            "version": "3.5.5", 
            "name": "python", 
            "file_extension": ".py", 
            "pygments_lexer": "ipython3", 
            "codemirror_mode": {
                "version": 3, 
                "name": "ipython"
            }
        }
    }, 
    "nbformat": 4
}