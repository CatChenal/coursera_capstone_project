{
    "nbformat_minor": 1, 
    "cells": [
        {
            "source": "# Toronto's Neighborhoods Segmentation\n\n### Contents\n>1. Part 1: Scrape Toronto's postal codes from Wikipedia resource\n>2. Part 2: Use the Google Geocoding API for geocoding the Boroughs\n>3. Part 3: Mapping and clustering", 
            "cell_type": "markdown", 
            "metadata": {
                "collapsed": true
            }
        }, 
        {
            "source": "# Part 1: Scrape Toronto's postal codes from Wikipedia resource", 
            "cell_type": "markdown", 
            "metadata": {}
        }, 
        {
            "source": "## Step 0: Load libraries for Part I\n\n> Note: **pandas.read_html** method can process a html table in a more straightforward way than beautifulsoup, so only pandas is needed here.", 
            "cell_type": "markdown", 
            "metadata": {}
        }, 
        {
            "execution_count": 1, 
            "cell_type": "code", 
            "metadata": {}, 
            "outputs": [
                {
                    "output_type": "stream", 
                    "name": "stdout", 
                    "text": "Part I Libraries imported.\n"
                }
            ], 
            "source": "import pandas as pd\nprint('Part I Libraries imported.')"
        }, 
        {
            "source": "## Step 1: Load Toronto's postal codes from Wikipedia resource into a pandas DataFrame.", 
            "cell_type": "markdown", 
            "metadata": {}
        }, 
        {
            "execution_count": 2, 
            "cell_type": "code", 
            "metadata": {}, 
            "outputs": [], 
            "source": "def toronto_wiki_to_df(geocode_FSA_only=True):\n    \"\"\"\n    Parameter: geocode_FSA_only; (Note: 'FSA' = Forward Sortation Area) (default: True):\n               This parameter enables two different level of segmentation: by Borough (True) or by Neighborhood (False).\n               \n               True: The dataframe 'Neighborhood' column will contain as many names as neighborhoods, so that\n               the geocoding will be that of the Borough using the 'PostalCode' (its FSA);\n               False: The dataframe 'Neighborhood' column will contain one neighborhood name, so that\n               the geocoding will be that of the 'Borough', and 'Neighborhood'.\n    \n    Returns a pandas dataframe with columns: 'PostalCode', 'Borough', and 'Neighborhood'\n \n    DataSource\n        wikipedia page: 'https://en.wikipedia.org/wiki/List_of_postal_codes_of_Canada:_M'\n    \"\"\"\n\n    url_toronto_codes = 'https://en.wikipedia.org/wiki/List_of_postal_codes_of_Canada:_M'\n\n    tbl_list = pd.read_html(url_toronto_codes)[0].unstack()\n\n    df_records = []\n    \n    for _, v in enumerate(tbl_list):\n        \n        if v[-12:] != 'Not assigned':\n            postal = v[0:3]\n\n            rhs1 = v[3:].strip().split('(')\n            boro = rhs1[0].strip()\n\n            # extra boro cleanup:\n            if postal == 'M9W' and boro.endswith('eNorthwest'):\n                boro = 'Etobicoke Northwest'\n\n            if postal == 'M4J' and boro == 'East YorkEast Toronto':\n                boro = 'East York'\n\n\n            if len(rhs1) == 1:\n                hoods = boro\n                df_records.append([postal, boro, hoods])\n\n            else:\n                if geocode_FSA_only:\n                    if not ('/' in rhs1[1]):\n                        hoods = rhs1[1][:-1].strip()\n\n                    else:\n                        hoods = rhs1[1][:-1].replace(' / ', ', ')\n\n\n                    df_records.append([postal, boro, hoods])\n\n                else:\n                    rhs2 = rhs1[1][:-1].split(' / ')\n\n                    if len(rhs2) == 1:\n                        hoods = rhs2[0]\n                        df_records.append([postal, boro, hoods])\n                    else:\n                        [df_records.append([postal, boro, h.strip()]) for h in rhs2]\n\n\n    df = pd.DataFrame(df_records, columns = ['PostalCode', 'Borough', 'Neighborhood'])\n    \n    if not geocode_FSA_only:\n        print('Note: Dataframe setup for geocoding by Neighborhood.')\n        \n    n1 = df.shape[0]\n    # Drop records for mail processing centers\n    df.drop(df[df.Neighborhood.str.startswith('Enclave')].index, axis=0, inplace=True)\n    df.reset_index(inplace=True, drop=True)\n    deleted = n1 - df.shape[0]\n    \n    print('Note: {} \"Enclave\" postal {areas} deleted'.format(deleted, areas=('area was' if deleted <= 2 else 'areas were')))\n    \n    return df\n"
        }, 
        {
            "execution_count": 3, 
            "cell_type": "code", 
            "metadata": {}, 
            "outputs": [
                {
                    "output_type": "stream", 
                    "name": "stdout", 
                    "text": "Note: 3 \"Enclave\" postal areas were deleted\n"
                }, 
                {
                    "execution_count": 3, 
                    "metadata": {}, 
                    "data": {
                        "text/html": "<div>\n<style scoped>\n    .dataframe tbody tr th:only-of-type {\n        vertical-align: middle;\n    }\n\n    .dataframe tbody tr th {\n        vertical-align: top;\n    }\n\n    .dataframe thead th {\n        text-align: right;\n    }\n</style>\n<table border=\"1\" class=\"dataframe\">\n  <thead>\n    <tr style=\"text-align: right;\">\n      <th></th>\n      <th>PostalCode</th>\n      <th>Borough</th>\n      <th>Neighborhood</th>\n    </tr>\n  </thead>\n  <tbody>\n    <tr>\n      <th>0</th>\n      <td>M1B</td>\n      <td>Scarborough</td>\n      <td>Malvern, Rouge</td>\n    </tr>\n    <tr>\n      <th>1</th>\n      <td>M1C</td>\n      <td>Scarborough</td>\n      <td>Rouge Hill, Port Union, Highland Creek</td>\n    </tr>\n    <tr>\n      <th>2</th>\n      <td>M1E</td>\n      <td>Scarborough</td>\n      <td>Guildwood, Morningside, West Hill</td>\n    </tr>\n    <tr>\n      <th>3</th>\n      <td>M1G</td>\n      <td>Scarborough</td>\n      <td>Woburn</td>\n    </tr>\n    <tr>\n      <th>4</th>\n      <td>M1H</td>\n      <td>Scarborough</td>\n      <td>Cedarbrae</td>\n    </tr>\n  </tbody>\n</table>\n</div>", 
                        "text/plain": "  PostalCode      Borough                            Neighborhood\n0        M1B  Scarborough                          Malvern, Rouge\n1        M1C  Scarborough  Rouge Hill, Port Union, Highland Creek\n2        M1E  Scarborough       Guildwood, Morningside, West Hill\n3        M1G  Scarborough                                  Woburn\n4        M1H  Scarborough                               Cedarbrae"
                    }, 
                    "output_type": "execute_result"
                }
            ], 
            "source": "tor_df = toronto_wiki_to_df()\n\ntor_df.head()"
        }, 
        {
            "execution_count": 4, 
            "cell_type": "code", 
            "metadata": {}, 
            "outputs": [
                {
                    "output_type": "stream", 
                    "name": "stdout", 
                    "text": "Dataframe size: (100, 3)\n"
                }
            ], 
            "source": "print('Dataframe size: {}'.format(tor_df.shape))"
        }, 
        {
            "source": "# Part II: Use the Google Geocoding API for geocoding the Boroughs", 
            "cell_type": "markdown", 
            "metadata": {}
        }, 
        {
            "source": "## Step 0: Load libraries for Part II", 
            "cell_type": "markdown", 
            "metadata": {}
        }, 
        {
            "execution_count": 5, 
            "cell_type": "code", 
            "metadata": {}, 
            "outputs": [], 
            "source": "import requests  # for use with Google API"
        }, 
        {
            "source": "## Step 1: Obtain the geolocation of each borough with Google geocode API", 
            "cell_type": "markdown", 
            "metadata": {}
        }, 
        {
            "execution_count": 6, 
            "cell_type": "code", 
            "metadata": {}, 
            "outputs": [], 
            "source": "# Note: Using the Google geocode api in the implementation by Borough (as per exercise)\n#       has the same behavior as that of geopy (without the limitations):\n#       there can be several geo locations return for each Borough: the first one is retrieved.\n\ndef get_goo_ll(api_key, address):\n    url = 'https://maps.googleapis.com/maps/api/geocode/json?key={}&address=\"{}\"'.format(api_key, address)\n\n    response = requests.get(url).json()\n    lat, lon = 0, 0\n    \n    if response['status'] == 'REQUEST_DENIED':\n        return ('d', 'd')\n    \n    if response['status'] != 'ZERO_RESULTS':\n        res = response['results'][0]\n        geoloc = res['geometry']['location']\n        \n        if isinstance(geoloc, list):\n            lat = geoloc[0]['lat']\n            lon = geoloc[0]['lng']\n        else:\n            # dict assumed\n            lat = geoloc['lat']\n            lon = geoloc['lng']\n        \n    return (lat, lon)"
        }, 
        {
            "source": "Save API key in the GOO_GEO_API variable (hidden cell)", 
            "cell_type": "markdown", 
            "metadata": {}
        }, 
        {
            "execution_count": 7, 
            "cell_type": "code", 
            "metadata": {}, 
            "outputs": [], 
            "source": "# The code was removed by Watson Studio for sharing."
        }, 
        {
            "execution_count": 8, 
            "cell_type": "code", 
            "metadata": {}, 
            "outputs": [], 
            "source": "TORONTO_ADRS = 'Canada Toronto {}'\n\ntor_df['loc'] = tor_df['PostalCode'].apply(lambda x: get_goo_ll(GOO_GEO_API, TORONTO_ADRS.format(x)))\n\ntor_df['Latitude'] = tor_df['loc'].apply(lambda x: x[0])\ntor_df['Longitude'] = tor_df['loc'].apply(lambda x: x[1])\n\ntor_df.drop('loc', axis=1, inplace=True)"
        }, 
        {
            "execution_count": 9, 
            "cell_type": "code", 
            "metadata": {}, 
            "outputs": [
                {
                    "execution_count": 9, 
                    "metadata": {}, 
                    "data": {
                        "text/html": "<div>\n<style scoped>\n    .dataframe tbody tr th:only-of-type {\n        vertical-align: middle;\n    }\n\n    .dataframe tbody tr th {\n        vertical-align: top;\n    }\n\n    .dataframe thead th {\n        text-align: right;\n    }\n</style>\n<table border=\"1\" class=\"dataframe\">\n  <thead>\n    <tr style=\"text-align: right;\">\n      <th></th>\n      <th>PostalCode</th>\n      <th>Borough</th>\n      <th>Neighborhood</th>\n      <th>Latitude</th>\n      <th>Longitude</th>\n    </tr>\n  </thead>\n  <tbody>\n    <tr>\n      <th>0</th>\n      <td>M1B</td>\n      <td>Scarborough</td>\n      <td>Malvern, Rouge</td>\n      <td>43.806686</td>\n      <td>-79.194353</td>\n    </tr>\n    <tr>\n      <th>1</th>\n      <td>M1C</td>\n      <td>Scarborough</td>\n      <td>Rouge Hill, Port Union, Highland Creek</td>\n      <td>43.784535</td>\n      <td>-79.160497</td>\n    </tr>\n    <tr>\n      <th>2</th>\n      <td>M1E</td>\n      <td>Scarborough</td>\n      <td>Guildwood, Morningside, West Hill</td>\n      <td>43.763573</td>\n      <td>-79.188711</td>\n    </tr>\n    <tr>\n      <th>3</th>\n      <td>M1G</td>\n      <td>Scarborough</td>\n      <td>Woburn</td>\n      <td>43.770992</td>\n      <td>-79.216917</td>\n    </tr>\n    <tr>\n      <th>4</th>\n      <td>M1H</td>\n      <td>Scarborough</td>\n      <td>Cedarbrae</td>\n      <td>43.773136</td>\n      <td>-79.239476</td>\n    </tr>\n  </tbody>\n</table>\n</div>", 
                        "text/plain": "  PostalCode      Borough                            Neighborhood   Latitude  \\\n0        M1B  Scarborough                          Malvern, Rouge  43.806686   \n1        M1C  Scarborough  Rouge Hill, Port Union, Highland Creek  43.784535   \n2        M1E  Scarborough       Guildwood, Morningside, West Hill  43.763573   \n3        M1G  Scarborough                                  Woburn  43.770992   \n4        M1H  Scarborough                               Cedarbrae  43.773136   \n\n   Longitude  \n0 -79.194353  \n1 -79.160497  \n2 -79.188711  \n3 -79.216917  \n4 -79.239476  "
                    }, 
                    "output_type": "execute_result"
                }
            ], 
            "source": "tor_df.head()"
        }, 
        {
            "source": "# Part III: Mapping and clustering", 
            "cell_type": "markdown", 
            "metadata": {}
        }, 
        {
            "execution_count": null, 
            "cell_type": "code", 
            "metadata": {}, 
            "outputs": [], 
            "source": ""
        }
    ], 
    "metadata": {
        "kernelspec": {
            "display_name": "Python 3.5", 
            "name": "python3", 
            "language": "python"
        }, 
        "language_info": {
            "mimetype": "text/x-python", 
            "nbconvert_exporter": "python", 
            "version": "3.5.5", 
            "name": "python", 
            "file_extension": ".py", 
            "pygments_lexer": "ipython3", 
            "codemirror_mode": {
                "version": 3, 
                "name": "ipython"
            }
        }
    }, 
    "nbformat": 4
}